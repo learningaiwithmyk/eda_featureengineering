{
 "cells": [
  {
   "cell_type": "markdown",
   "id": "da498955-70fe-48c3-a1ce-55779d2127d1",
   "metadata": {},
   "source": [
    "# Exploratory Data Analysis (EDA)"
   ]
  },
  {
   "cell_type": "code",
   "execution_count": 3,
   "id": "539982e5-e14d-4e4b-a4ce-dd39f5a08c7c",
   "metadata": {},
   "outputs": [],
   "source": [
    "#import Pandas Library\n",
    "import pandas as pd\n",
    "df=pd.read_csv('usedcar_data.csv')"
   ]
  },
  {
   "cell_type": "markdown",
   "id": "b296f6c2-bec5-44ff-ac28-215baf73440d",
   "metadata": {},
   "source": [
    "### Step 1: Understand the Problem Statement"
   ]
  },
  {
   "cell_type": "code",
   "execution_count": 2,
   "id": "29e4e901-b245-44a3-aeb0-686d732b9f18",
   "metadata": {},
   "outputs": [],
   "source": [
    "         # Dataset: Used Cars\n",
    "         # Goal: Understand the patterns and relationships that affect the car’s selling price."
   ]
  },
  {
   "cell_type": "markdown",
   "id": "7b4a4def-daa3-4487-b312-06dfe22aecac",
   "metadata": {},
   "source": [
    "### Step 2: Import and Inspect the Data"
   ]
  },
  {
   "cell_type": "code",
   "execution_count": 4,
   "id": "85f21deb-1755-425f-a3ce-811bac48e001",
   "metadata": {},
   "outputs": [
    {
     "data": {
      "text/html": [
       "<div>\n",
       "<style scoped>\n",
       "    .dataframe tbody tr th:only-of-type {\n",
       "        vertical-align: middle;\n",
       "    }\n",
       "\n",
       "    .dataframe tbody tr th {\n",
       "        vertical-align: top;\n",
       "    }\n",
       "\n",
       "    .dataframe thead th {\n",
       "        text-align: right;\n",
       "    }\n",
       "</style>\n",
       "<table border=\"1\" class=\"dataframe\">\n",
       "  <thead>\n",
       "    <tr style=\"text-align: right;\">\n",
       "      <th></th>\n",
       "      <th>Car_Name</th>\n",
       "      <th>Year</th>\n",
       "      <th>Selling_Price</th>\n",
       "      <th>Present_Price</th>\n",
       "      <th>Kms_Driven</th>\n",
       "      <th>Fuel_Type</th>\n",
       "      <th>Seller_Type</th>\n",
       "      <th>Transmission</th>\n",
       "      <th>Owner</th>\n",
       "      <th>Color</th>\n",
       "      <th>Mileage</th>\n",
       "    </tr>\n",
       "  </thead>\n",
       "  <tbody>\n",
       "    <tr>\n",
       "      <th>0</th>\n",
       "      <td>Chevrolet</td>\n",
       "      <td>2014</td>\n",
       "      <td>10.74</td>\n",
       "      <td>18.30</td>\n",
       "      <td>87986</td>\n",
       "      <td>Petrol</td>\n",
       "      <td>Dealer</td>\n",
       "      <td>Manual</td>\n",
       "      <td>0</td>\n",
       "      <td>White</td>\n",
       "      <td>9.39</td>\n",
       "    </tr>\n",
       "    <tr>\n",
       "      <th>1</th>\n",
       "      <td>Tata</td>\n",
       "      <td>2004</td>\n",
       "      <td>13.02</td>\n",
       "      <td>14.71</td>\n",
       "      <td>156836</td>\n",
       "      <td>CNG</td>\n",
       "      <td>Individual</td>\n",
       "      <td>Automatic</td>\n",
       "      <td>1</td>\n",
       "      <td>White</td>\n",
       "      <td>29.78</td>\n",
       "    </tr>\n",
       "    <tr>\n",
       "      <th>2</th>\n",
       "      <td>Renault</td>\n",
       "      <td>2003</td>\n",
       "      <td>5.56</td>\n",
       "      <td>8.82</td>\n",
       "      <td>113940</td>\n",
       "      <td>CNG</td>\n",
       "      <td>Dealer</td>\n",
       "      <td>Manual</td>\n",
       "      <td>0</td>\n",
       "      <td>Grey</td>\n",
       "      <td>15.09</td>\n",
       "    </tr>\n",
       "    <tr>\n",
       "      <th>3</th>\n",
       "      <td>Ford</td>\n",
       "      <td>2018</td>\n",
       "      <td>NaN</td>\n",
       "      <td>11.65</td>\n",
       "      <td>43494</td>\n",
       "      <td>Diesel</td>\n",
       "      <td>Individual</td>\n",
       "      <td>Automatic</td>\n",
       "      <td>0</td>\n",
       "      <td>Black</td>\n",
       "      <td>NaN</td>\n",
       "    </tr>\n",
       "    <tr>\n",
       "      <th>4</th>\n",
       "      <td>Chevrolet</td>\n",
       "      <td>2007</td>\n",
       "      <td>NaN</td>\n",
       "      <td>7.89</td>\n",
       "      <td>8373</td>\n",
       "      <td>CNG</td>\n",
       "      <td>Dealer</td>\n",
       "      <td>Automatic</td>\n",
       "      <td>1</td>\n",
       "      <td>Grey</td>\n",
       "      <td>13.60</td>\n",
       "    </tr>\n",
       "  </tbody>\n",
       "</table>\n",
       "</div>"
      ],
      "text/plain": [
       "    Car_Name  Year  Selling_Price  Present_Price  Kms_Driven Fuel_Type  \\\n",
       "0  Chevrolet  2014          10.74          18.30       87986    Petrol   \n",
       "1       Tata  2004          13.02          14.71      156836       CNG   \n",
       "2    Renault  2003           5.56           8.82      113940       CNG   \n",
       "3       Ford  2018            NaN          11.65       43494    Diesel   \n",
       "4  Chevrolet  2007            NaN           7.89        8373       CNG   \n",
       "\n",
       "  Seller_Type Transmission  Owner  Color  Mileage  \n",
       "0      Dealer       Manual      0  White     9.39  \n",
       "1  Individual    Automatic      1  White    29.78  \n",
       "2      Dealer       Manual      0   Grey    15.09  \n",
       "3  Individual    Automatic      0  Black      NaN  \n",
       "4      Dealer    Automatic      1   Grey    13.60  "
      ]
     },
     "execution_count": 4,
     "metadata": {},
     "output_type": "execute_result"
    }
   ],
   "source": [
    "df.head()"
   ]
  },
  {
   "cell_type": "code",
   "execution_count": 5,
   "id": "df6be990-dd86-46d0-aac2-947be0c84145",
   "metadata": {},
   "outputs": [
    {
     "name": "stdout",
     "output_type": "stream",
     "text": [
      "<class 'pandas.core.frame.DataFrame'>\n",
      "RangeIndex: 100 entries, 0 to 99\n",
      "Data columns (total 11 columns):\n",
      " #   Column         Non-Null Count  Dtype  \n",
      "---  ------         --------------  -----  \n",
      " 0   Car_Name       100 non-null    object \n",
      " 1   Year           100 non-null    int64  \n",
      " 2   Selling_Price  90 non-null     float64\n",
      " 3   Present_Price  100 non-null    float64\n",
      " 4   Kms_Driven     100 non-null    int64  \n",
      " 5   Fuel_Type      90 non-null     object \n",
      " 6   Seller_Type    100 non-null    object \n",
      " 7   Transmission   100 non-null    object \n",
      " 8   Owner          100 non-null    int64  \n",
      " 9   Color          100 non-null    object \n",
      " 10  Mileage        92 non-null     float64\n",
      "dtypes: float64(3), int64(3), object(5)\n",
      "memory usage: 8.7+ KB\n"
     ]
    }
   ],
   "source": [
    "df.info()"
   ]
  },
  {
   "cell_type": "code",
   "execution_count": 6,
   "id": "ec1fbf7c-a3f6-4e33-9c18-743bf1ba4dcc",
   "metadata": {},
   "outputs": [
    {
     "data": {
      "text/plain": [
       "(100, 11)"
      ]
     },
     "execution_count": 6,
     "metadata": {},
     "output_type": "execute_result"
    }
   ],
   "source": [
    "df.shape"
   ]
  },
  {
   "cell_type": "markdown",
   "id": "f8600592-aa45-4efd-8f3a-0b932af7f1fd",
   "metadata": {},
   "source": [
    "### Step 3: Identify Missing Values"
   ]
  },
  {
   "cell_type": "code",
   "execution_count": 7,
   "id": "88d4c108-d47f-4cf0-909a-c6d52a9663e0",
   "metadata": {},
   "outputs": [
    {
     "data": {
      "text/plain": [
       "Car_Name          0\n",
       "Year              0\n",
       "Selling_Price    10\n",
       "Present_Price     0\n",
       "Kms_Driven        0\n",
       "Fuel_Type        10\n",
       "Seller_Type       0\n",
       "Transmission      0\n",
       "Owner             0\n",
       "Color             0\n",
       "Mileage           8\n",
       "dtype: int64"
      ]
     },
     "execution_count": 7,
     "metadata": {},
     "output_type": "execute_result"
    }
   ],
   "source": [
    "df.isnull().sum()"
   ]
  },
  {
   "cell_type": "code",
   "execution_count": 8,
   "id": "393baf5b-dc75-4de2-a30e-a00a99426f44",
   "metadata": {},
   "outputs": [],
   "source": [
    "import seaborn as sns\n",
    "import matplotlib.pyplot as plt"
   ]
  },
  {
   "cell_type": "code",
   "execution_count": 10,
   "id": "67f11ed8-9f0d-40c2-875a-8a06d1fc7a2a",
   "metadata": {},
   "outputs": [
    {
     "data": {
      "image/png": "[encoded data removed]",
      "text/plain": [
       "<Figure size 640x480 with 2 Axes>"
      ]
     },
     "metadata": {},
     "output_type": "display_data"
    }
   ],
   "source": [
    "sns.heatmap(df.isnull(),cbar=True,cmap='viridis')\n",
    "plt.title(\"Missing data heatmap\")\n",
    "plt.show()"
   ]
  },
  {
   "cell_type": "code",
   "execution_count": null,
   "id": "0fdd6bb1-9906-490c-a1c6-9c0306ab0a62",
   "metadata": {},
   "outputs": [],
   "source": []
  }
 ],
 "metadata": {
  "kernelspec": {
   "display_name": "Python 3 (ipykernel)",
   "language": "python",
   "name": "python3"
  },
  "language_info": {
   "codemirror_mode": {
    "name": "ipython",
    "version": 3
   },
   "file_extension": ".py",
   "mimetype": "text/x-python",
   "name": "python",
   "nbconvert_exporter": "python",
   "pygments_lexer": "ipython3",
   "version": "3.11.10"
  }
 },
 "nbformat": 4,
 "nbformat_minor": 5
}
